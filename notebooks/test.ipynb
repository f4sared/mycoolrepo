{
 "cells": [
  {
   "cell_type": "code",
   "execution_count": 20,
   "metadata": {},
   "outputs": [],
   "source": [
    "import random\n",
    "import time\n",
    "\n",
    "# Define the generator function\n",
    "def response_generator():\n",
    "    response = random.choice(\n",
    "        [\n",
    "            \"Hello there! How can I assist you today?\",\n",
    "            \"Hi, human! Is there anything I can help you with?\",\n",
    "            \"Do you need help?\",\n",
    "        ]\n",
    "    )\n",
    "    for word in response.split():\n",
    "        yield word + \" \"\n",
    "        # time.sleep(0.05)\n",
    "\n",
    "# # Call the generator multiple times\n",
    "# for _ in range(5):\n",
    "#     print(\"Generating a new response:\")\n",
    "#     for word in response_generator():\n",
    "#         print(word, end='', flush=True)\n",
    "#     print(\"\\n\")"
   ]
  },
  {
   "cell_type": "code",
   "execution_count": 21,
   "metadata": {},
   "outputs": [
    {
     "data": {
      "text/plain": [
       "'Hello '"
      ]
     },
     "execution_count": 21,
     "metadata": {},
     "output_type": "execute_result"
    }
   ],
   "source": [
    "me = response_generator()\n",
    "next(me)"
   ]
  },
  {
   "cell_type": "code",
   "execution_count": 22,
   "metadata": {},
   "outputs": [
    {
     "data": {
      "text/plain": [
       "'there! '"
      ]
     },
     "execution_count": 22,
     "metadata": {},
     "output_type": "execute_result"
    }
   ],
   "source": [
    "next(me)"
   ]
  },
  {
   "cell_type": "code",
   "execution_count": 23,
   "metadata": {},
   "outputs": [
    {
     "data": {
      "text/plain": [
       "'How '"
      ]
     },
     "execution_count": 23,
     "metadata": {},
     "output_type": "execute_result"
    }
   ],
   "source": [
    "next(me)"
   ]
  }
 ],
 "metadata": {
  "kernelspec": {
   "display_name": "AIAP",
   "language": "python",
   "name": "python3"
  },
  "language_info": {
   "codemirror_mode": {
    "name": "ipython",
    "version": 3
   },
   "file_extension": ".py",
   "mimetype": "text/x-python",
   "name": "python",
   "nbconvert_exporter": "python",
   "pygments_lexer": "ipython3",
   "version": "3.12.3"
  }
 },
 "nbformat": 4,
 "nbformat_minor": 2
}
